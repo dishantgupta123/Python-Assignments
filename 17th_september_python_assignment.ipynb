{
 "cells": [
  {
   "cell_type": "code",
   "execution_count": null,
   "id": "f95a45fa-e16a-406e-8498-707cc59943d7",
   "metadata": {},
   "outputs": [],
   "source": [
    "## For Loop :-\n",
    "\n",
    "#1. Write a Python program to print numbers from 1 to 10 using a for loop.\n",
    "def print_numbers(n):\n",
    "    for i in range(1, n+1):   ### to print numbers fron 1 to 10\n",
    "        print(i)\n",
    "\n",
    "num = int(input(\"Entwr number till you want to print numbers:- \"))\n",
    "print_numbers(num)"
   ]
  },
  {
   "cell_type": "markdown",
   "id": "4adce9cc-9463-49fb-971f-68b78a8a49d8",
   "metadata": {},
   "source": [
    "#2. Explain the difference between a for loop and a while loop in Python.\n",
    "For Loop:\n",
    "A for loop is used when you have a sequence of elements (like a list, tuple, string, etc.) and you want to perform an action for each element in that sequence.\n",
    "It iterates over a sequence of items and executes a block of code for each item in the sequence.\n",
    "The syntax looks like this:\n",
    "for item in sequence:\n",
    "    # do something with item\n",
    "Here, item represents the individual elements in the sequence, and the loop continues until all items in the sequence have been iterated.\n",
    "\n",
    "\n",
    "While Loop:\n",
    "A while loop is used when you want to execute a block of code repeatedly as long as a condition is true.\n",
    "It keeps iterating until the condition specified becomes false.\n",
    "The syntax looks like this:\n",
    "while condition:\n",
    "    # do something\n",
    "\n",
    "\n",
    "\n",
    "\n",
    "\n"
   ]
  },
  {
   "cell_type": "code",
   "execution_count": null,
   "id": "a3468e48-372e-4bc0-96e5-d086d1f14dc0",
   "metadata": {
    "tags": []
   },
   "outputs": [],
   "source": [
    "#3. Write a Python program to calculate the sum of all numbers from 1 to 100 using a for loop.\n",
    "def sum_numbers(n):    ## defining the function for clculating sum from 1 to 100\n",
    "    sum = 0               ### initializing the value of sum with zero...\n",
    "    for i in range(1, n+1):\n",
    "        sum = sum + i\n",
    "    return sum\n",
    "\n",
    "num = int(input(\"Enter the upper limit of sum of numbers:-\"))\n",
    "print(f\"sum of {num} natural numbers is:\",sum_numbers(num))"
   ]
  },
  {
   "cell_type": "code",
   "execution_count": null,
   "id": "f7bb8a1d-8a80-46bd-aea1-62700b797506",
   "metadata": {
    "tags": []
   },
   "outputs": [],
   "source": [
    "#4 . How do you iterate through a list using a for loop in Python?\n",
    "list1 = ['ramesh', 'suresh', 2, 5, 7, [2, 5, 6], 'aryan']   ### here we randomly choose an example of list \n",
    "for item in list1:\n",
    "    ## item represents a elements in list1.\n",
    "    print(item)"
   ]
  },
  {
   "cell_type": "code",
   "execution_count": null,
   "id": "1d3f3440-b382-421c-b113-e3937cf7ee9e",
   "metadata": {
    "tags": []
   },
   "outputs": [],
   "source": [
    "#5. Write a Python program to find the product of all elements in a list using a for loop.\n",
    "def product_elements(list):\n",
    "    prod = 1\n",
    "    for item in list:\n",
    "        prod = item * prod\n",
    "    return prod\n",
    "\n",
    "list1 = [1, 4, 6, 89, 45]\n",
    "print(f\"product of all elements in a list {list1} is\", product_elements(list1))\n"
   ]
  },
  {
   "cell_type": "code",
   "execution_count": null,
   "id": "5414ee65-16c1-4270-8076-dfe1aff64bae",
   "metadata": {
    "tags": []
   },
   "outputs": [],
   "source": [
    "#6. Create a Python program that prints all even numbers from 1 to 20 using a for loop.\n",
    "def print_even_no(n):\n",
    "    for i in range(1, n+1):\n",
    "        if(i%2 == 0):\n",
    "            print(i)\n",
    "print_even_no(20)"
   ]
  },
  {
   "cell_type": "code",
   "execution_count": null,
   "id": "896f5da8-1075-43ce-8a41-7efe28bcdc0c",
   "metadata": {
    "tags": []
   },
   "outputs": [],
   "source": [
    "#7. Write a Python program that calculates the factorial of a number using a for loop.\n",
    "def factorial_number(num):\n",
    "    if(num == 0 or num == 1):\n",
    "        return 1\n",
    "    ## using recursion method:- \n",
    "    return num * factorial_number(num-1)\n",
    "    \n",
    "def factorial_n(num):\n",
    "    prod = 1\n",
    "    for i in range(1, num+1):    ###usinf for loop \n",
    "        prod = i*prod\n",
    "    return prod\n",
    "\n",
    "num = int(input(\"Enter a number (>=0) :_ \"))\n",
    "print(\"Factorial of\",num,\"is:-\",factorial_n(num))"
   ]
  },
  {
   "cell_type": "code",
   "execution_count": null,
   "id": "f136a557-d650-4b3d-9b37-ce061a681cba",
   "metadata": {
    "tags": []
   },
   "outputs": [],
   "source": [
    "#8. How can you iterate through the characters of a string using a for loop in Python?\n",
    "\n",
    "str = \"rakesh sharma\"\n",
    "for item in str:\n",
    "    print(item)"
   ]
  },
  {
   "cell_type": "code",
   "execution_count": null,
   "id": "b096b0cf-73a3-4e55-a581-987ecd3c12f6",
   "metadata": {
    "tags": []
   },
   "outputs": [],
   "source": [
    "#9. Write a Python program to find the largest number in a list using a for loop.\n",
    "\n",
    "def find_largest_number(num_list):\n",
    "    if not num_list:\n",
    "        return None  # Return None for an empty list\n",
    "    max_number = num_list[0]  # Assume the first number is the largest initially\n",
    "    for num in num_list:\n",
    "        if num > max_number:\n",
    "            max_number = num  # Update max_number if a larger number is found\n",
    "    return max_number\n",
    "\n",
    "marks = [95, 23, 67, 78, 56, 89, 90, 99, 99, 21]    ### consider a list of marks of 10 students out of 100\n",
    "print(\"highest marks :-\",find_largest_number(marks))"
   ]
  },
  {
   "cell_type": "code",
   "execution_count": null,
   "id": "f150b62c-c034-4e3c-83f3-57ad1b25c359",
   "metadata": {
    "tags": []
   },
   "outputs": [],
   "source": [
    "#10. Create a Python program that prints the Fibonacci sequence up to a specified limit using a for loop.\n",
    " ### fibonacci series:- 0, 1, 1, 2, 3, 5, 8, 13, 21, 34, .....\n"
   ]
  },
  {
   "cell_type": "code",
   "execution_count": null,
   "id": "7df213c0-f7a6-42e6-a7f4-486d42c7a164",
   "metadata": {
    "tags": []
   },
   "outputs": [],
   "source": [
    "#11. Write a Python program to count the number of vowels in a given string using a for loop.\n",
    "str = input(\"Enter any sentence /word:- \")\n",
    "count = 0\n",
    "for item in str:\n",
    "    str = str.lower()\n",
    "    if(item == 'a' or item == 'e' or item == 'i' or item == 'o' or item == 'u'):\n",
    "        count = count +1\n",
    "\n",
    "print(\"Number of vowels in given string\",str,\"is:- \",count)"
   ]
  },
  {
   "cell_type": "code",
   "execution_count": null,
   "id": "5c235997-4e8b-4c38-b809-90d2a2eb0d9b",
   "metadata": {
    "tags": []
   },
   "outputs": [],
   "source": [
    "#12.\n",
    "# Create a Python program that generates a multiplication table for a given number using a for loop.\n",
    "def table(num):\n",
    "    for i in range(1, 11):\n",
    "        print(num,\"X\",i,\"=\",num*i)\n",
    "num = int(input(\"Enter a number of which you want multiplication table:- \"))\n",
    "print(\"Multiplication table of\",num,\"is:- \")\n",
    "table(num)"
   ]
  },
  {
   "cell_type": "code",
   "execution_count": null,
   "id": "1986a73b-1fb7-4141-ade9-3310fcdcb076",
   "metadata": {
    "tags": []
   },
   "outputs": [],
   "source": [
    "#13. Write a Python program to reverse a list using a for loop.\n",
    "def swap(a, b):\n",
    "    a = a+b\n",
    "    b = a-b\n",
    "    a = a-b\n",
    "    return a, b\n",
    "\n",
    "def reverse_list(list):\n",
    "    for i in range(len(list) // 2):\n",
    "        swap(list[i], list[len(list) - i - 1])\n",
    "    return list\n",
    "\n",
    "list = [2, 4, 5, 6, 7, 12]\n",
    "print(\"Reverse of given list:- \", reverse_list(list))\n",
    "        "
   ]
  },
  {
   "cell_type": "code",
   "execution_count": null,
   "id": "9071f523-60c2-44aa-9f8a-500c2cf73a1f",
   "metadata": {
    "tags": []
   },
   "outputs": [],
   "source": [
    "#14. Write a Python program to find the common elements between two lists using a for loop.\n",
    "def common_elements(list1, list2):\n",
    "    for i in range(len(list1)):\n",
    "        for j in range(len(list2)):\n",
    "            if(list2[j] == list1[i]):\n",
    "                return list2[j]\n",
    "\n",
    "list1 = [1, 3, 5, 'sudh', 'kumar']\n",
    "list2 = [4 ,7, 4, 'gupt', 3, 5, 'kumar']\n",
    "print(common_elements(list1, list2))"
   ]
  },
  {
   "cell_type": "code",
   "execution_count": null,
   "id": "2b1d9fc8-a8c9-4ec0-a856-c6b00739298d",
   "metadata": {},
   "outputs": [],
   "source": [
    "#15. Explain how to use a for loop to iterate through the keys and values of a dictionary in Python.\n",
    "## consider following example of dictionary :-\n",
    "dict = {'name': 'suresh kumar' , 'employee id' : 20158551 ,'role' : 'data scientist'}\n",
    "for item in dict.keys():    ### using keys() built in function, we can iterate the keys of given dict\n",
    "    print(item)\n",
    "for item in dict.values():   ## using values() built in function, we can iterate the values of given dict\n",
    "    print(item)"
   ]
  },
  {
   "cell_type": "code",
   "execution_count": null,
   "id": "59378174-7895-44c1-b49f-593bd8ca22f0",
   "metadata": {},
   "outputs": [],
   "source": [
    "#16. Write a Python program to find the GCD (Greatest Common Divisor) of two numbers using a for loop.\n"
   ]
  },
  {
   "cell_type": "code",
   "execution_count": null,
   "id": "7142adb1-2d0c-486c-aa95-30382c438510",
   "metadata": {
    "tags": []
   },
   "outputs": [],
   "source": [
    "#17. Create a Python program that checks if a string is a palindrome using a for loop.\n",
    "str = input(\"Enter any sentence/word of which you want to check it is palindrome or not:- \")\n",
    "if(str == str[::-1]):\n",
    "    print(f\"{str} is a palindrome\")\n",
    "else:\n",
    "    print(f\"{str} is not a palindrome\")"
   ]
  },
  {
   "cell_type": "code",
   "execution_count": null,
   "id": "c4588df2-14cc-4a37-9674-103fa2706455",
   "metadata": {
    "tags": []
   },
   "outputs": [],
   "source": [
    "#18. Write a Python program to remove duplicates from a list using a for loop.\n",
    "## it means input list l1 = [23, 45, 56, 67, 89, 89, 12, 23, 45]\n",
    "##  output list:- L2 = [23, 45, 56, 67, 89, 12]  \n",
    "def duplicate_items(input_list):\n",
    "    output_list = []\n",
    "    for item in input_list:\n",
    "        if item not in output_list:\n",
    "            output_list.append(item)\n",
    "    \n",
    "    return output_list\n",
    "\n",
    "list1 = [23, 45, 56, 67, 89, 89, 12, 23, 45];\n",
    "output_list1 = duplicate_items(list1)\n",
    "print(output_list1)"
   ]
  },
  {
   "cell_type": "code",
   "execution_count": null,
   "id": "164c601f-e77d-4f4b-80eb-2ead68e59acf",
   "metadata": {
    "tags": []
   },
   "outputs": [],
   "source": [
    "#19. Create a Python program that counts the number of words in a sentence using a for loop.\n",
    "str = input(\"Enter any sentence/word :- \")\n",
    "str = str.split()  ### it creates a list of word in sequence of sentence....\n",
    "count = 0    ### count variable declared to tell no of words in a given sentence\n",
    "for iten in str:\n",
    "    count = count + 1\n",
    "print(f\"number of words in {str} is:-\", count)"
   ]
  },
  {
   "cell_type": "code",
   "execution_count": null,
   "id": "260eb1f8-4a02-4766-ae4e-bb756cd1545d",
   "metadata": {
    "tags": []
   },
   "outputs": [],
   "source": [
    "#20. Write a Python program to find the sum of all odd numbers from 1 to 50 using a for loop.\n",
    "list1 = list(range(1, 51))\n",
    "sum = 0\n",
    "for item in list1:\n",
    "    if(item % 2 != 0):   ## this if is established to take only odd numbers in a list\n",
    "        sum = sum + item \n",
    "print(\"sum of odd numbers in first 50 natural numbers:- \", sum)"
   ]
  },
  {
   "cell_type": "code",
   "execution_count": null,
   "id": "0d0f078e-d9db-40c1-a83f-b272c12cefde",
   "metadata": {},
   "outputs": [],
   "source": [
    "#21 Write a Python program that checks if a given year is a leap year using a for loop.\n"
   ]
  },
  {
   "cell_type": "code",
   "execution_count": null,
   "id": "2de8faee-3bb4-4aa5-91dd-2df1d0e89565",
   "metadata": {
    "tags": []
   },
   "outputs": [],
   "source": [
    "#22 Create a Python program that calculates the square root of a number using a for loop.\n",
    "num = int(input(\"Enter a number :- \"))\n"
   ]
  },
  {
   "cell_type": "code",
   "execution_count": null,
   "id": "f2ae4213-d4a8-4165-8f4c-41a2cdf944d3",
   "metadata": {},
   "outputs": [],
   "source": [
    "#23. Write a Python program to find the LCM (Least Common Multiple) of two numbers using a for loop."
   ]
  },
  {
   "cell_type": "markdown",
   "id": "279e311b",
   "metadata": {},
   "source": [
    "# IF - ELSE Statements "
   ]
  },
  {
   "cell_type": "code",
   "execution_count": null,
   "id": "0e00924f",
   "metadata": {},
   "outputs": [],
   "source": [
    "#1.Write a Python program to check if a number is positive, negative, or zero using an if-else statement.\n",
    "def check_number(num):\n",
    "    if num > 0:\n",
    "        print(num,\"is positive\")\n",
    "    elif num < 0:\n",
    "        print(num,\"is negative\")\n",
    "    elif num == 0:\n",
    "        print(num,\"is zero\")\n",
    "    else:\n",
    "        print(\"Invalid input\")\n",
    "num = float(input(\"Enter a number:-\"))\n",
    "check_number(num)"
   ]
  },
  {
   "cell_type": "code",
   "execution_count": null,
   "id": "93dde98f",
   "metadata": {},
   "outputs": [],
   "source": [
    "#2.Create a Python program that checks if a given number is even or odd using an if-else statement.\n",
    "even_odd = lambda num : \"even number\" if num%2 == 0 else \"odd number\"\n",
    "\n",
    "num = int(input(\"Enter a number:_ \"))\n",
    "even_odd(num)\n"
   ]
  },
  {
   "cell_type": "markdown",
   "id": "52e504e0",
   "metadata": {},
   "source": [
    "#3. How can you use nested if-else statements in Python, and provide an example?\n",
    "Nested if-else statements in Python allow you to have conditional statements within other conditional statements. \n",
    "This helps in creating more complex decision-making structures.\n",
    "Here's an example:"
   ]
  },
  {
   "cell_type": "code",
   "execution_count": null,
   "id": "86131d14",
   "metadata": {},
   "outputs": [],
   "source": [
    "#3.\n",
    "marks = int(input(\"Enter your marks:_ \"))\n",
    "if marks >= 90 :\n",
    "    print(\"A grade\")\n",
    "elif 60 <= marks < 90 :\n",
    "    if marks >= 80 :\n",
    "        print(\"AB grade\")\n",
    "    elif 75 <= marks < 80 :\n",
    "        print(\"B grade\")\n",
    "    elif 70 <= marks < 75 :\n",
    "        print(\"BC grade\")\n",
    "    else :\n",
    "        print(\"C grade\")\n",
    "        \n",
    "elif 40 < marks < 60 :\n",
    "    print(\"Pass\")\n",
    "    \n",
    "elif 0 <= marks < 40 :\n",
    "    print(\"Fail\")\n",
    "\n",
    "else:\n",
    "    print(\"Invalid input\")"
   ]
  },
  {
   "cell_type": "code",
   "execution_count": null,
   "id": "e49679ee",
   "metadata": {},
   "outputs": [],
   "source": [
    "# 4. Write a Python program to determine the largest of three numbers using if-else.\n",
    "def find_largest(num1, num2, num3):\n",
    "    if num1 >= num2 and num1 >= num3:\n",
    "        return num1\n",
    "    elif num2 >= num1 and num2 >= num3:\n",
    "        return num2\n",
    "    else:\n",
    "        return num3\n",
    "\n",
    "# Taking user input for three numbers\n",
    "num1 = float(input(\"Enter first number: \"))\n",
    "num2 = float(input(\"Enter second number: \"))\n",
    "num3 = float(input(\"Enter third number: \"))\n",
    "\n",
    "largest = find_largest(num1, num2, num3)\n",
    "print(f\"The largest number is {largest}\")\n",
    "\n",
    "# 5. Write a Python program that calculates the absolute value of a number using if-else.\n",
    "def absolute_value(num):\n",
    "    if num >= 0:\n",
    "        return num\n",
    "    else:\n",
    "        return -num\n",
    "\n",
    "# Taking user input for a number\n",
    "num = float(input(\"Enter a number: \"))\n",
    "\n",
    "abs_value = absolute_value(num)\n",
    "print(f\"The absolute value of {num} is {abs_value}\")\n"
   ]
  },
  {
   "cell_type": "code",
   "execution_count": null,
   "id": "820b94ab",
   "metadata": {},
   "outputs": [],
   "source": [
    "#6. Create a Python program that checks if a given character is a vowel or consonant using if-else.\n",
    "def check_vowel_or_consonant(char):\n",
    "    # Convert the character to lowercase for case-insensitive comparison\n",
    "    char = char.lower()\n",
    "\n",
    "    # Check if the character is a vowel\n",
    "    if char in ['a', 'e', 'i', 'o', 'u']:\n",
    "        return f\"The character '{char}' is a vowel.\"\n",
    "    # Check if the character is an English alphabet letter but not a vowel\n",
    "    elif char.isalpha():\n",
    "        return f\"The character '{char}' is a consonant.\"\n",
    "    else:\n",
    "        return f\"The character '{char}' is not a vowel or a consonant.\"\n",
    "\n",
    "# Taking user input for a character\n",
    "character = input(\"Enter a character: \")\n",
    "\n",
    "# Checking if the character is a vowel or consonant\n",
    "result = check_vowel_or_consonant(character)\n",
    "print(result)\n"
   ]
  },
  {
   "cell_type": "code",
   "execution_count": null,
   "id": "fa5ec7ff",
   "metadata": {},
   "outputs": [],
   "source": [
    "#7. Write a Python program to determine if a user is eligible to vote based on their age using if-else.\n",
    "def check_voting_eligibility(age):\n",
    "    if age >= 18:\n",
    "        return \"You are eligible to vote!\"\n",
    "    else:\n",
    "        return \"You are not eligible to vote yet.\"\n",
    "\n",
    "# Taking user input for age\n",
    "user_age = int(input(\"Enter your age: \"))\n",
    "\n",
    "# Checking eligibility to vote\n",
    "result = check_voting_eligibility(user_age)\n",
    "print(result)\n"
   ]
  },
  {
   "cell_type": "code",
   "execution_count": null,
   "id": "1ff26a5a",
   "metadata": {},
   "outputs": [],
   "source": [
    "#8. Create a Python program that calculates the discount amount based on the purchase amount using if-else.\n",
    "def calculate_discount(purchase_amount):\n",
    "    discount = 0\n",
    "\n",
    "    # Check different discount slabs based on purchase amount\n",
    "    if purchase_amount >= 100 and purchase_amount < 500:\n",
    "        discount = 0.05 * purchase_amount  # 5% discount for purchase between 100 and 500\n",
    "    elif purchase_amount >= 500 and purchase_amount < 1000:\n",
    "        discount = 0.1 * purchase_amount  # 10% discount for purchase between 500 and 1000\n",
    "    elif purchase_amount >= 1000:\n",
    "        discount = 0.15 * purchase_amount  # 15% discount for purchase of 1000 or more\n",
    "\n",
    "    return discount\n",
    "\n",
    "# Taking user input for purchase amount\n",
    "amount = float(input(\"Enter the purchase amount: $\"))\n",
    "\n",
    "# Calculating the discount\n",
    "discount_amount = calculate_discount(amount)\n",
    "print(f\"The discount amount is: ${discount_amount:.2f}\")\n"
   ]
  },
  {
   "cell_type": "code",
   "execution_count": null,
   "id": "fab41c5c",
   "metadata": {},
   "outputs": [],
   "source": [
    "#9. Write a Python program to check if a number is within a specified range using if-else.\n",
    "def find_number(k, lower_limit, upper_limit):\n",
    "    if k in range(lower_limit, upper_limit+1):\n",
    "        print(f\"{k} is present \")\n",
    "    else:\n",
    "        print(f\"{k} is not present\")\n",
    "\n",
    "lower_limit = int(input(\"Enter lower limit of number:-\"))\n",
    "upper_limit = int(input(\"Enter upper limit of number:_\"))\n",
    "user_inp = int(input(\"Enter number to find:\"))\n",
    "\n",
    "find_number(user_inp, lower_limit, upper_limit)"
   ]
  },
  {
   "cell_type": "code",
   "execution_count": null,
   "id": "387e2e41",
   "metadata": {},
   "outputs": [],
   "source": [
    "#10. \n",
    "def calculate_grade(score):\n",
    "    if score >= 90:\n",
    "        return 'A'\n",
    "    elif score >= 80:\n",
    "        return 'B'\n",
    "    elif score >= 70:\n",
    "        return 'C'\n",
    "    elif score >= 60:\n",
    "        return 'D'\n",
    "    else:\n",
    "        return 'F'\n",
    "\n",
    "# Example usage\n",
    "student_score = float(input(\"Enter the student's score: \"))\n",
    "grade = calculate_grade(student_score)\n",
    "print(f\"The student's grade is: {grade}\")\n"
   ]
  },
  {
   "cell_type": "code",
   "execution_count": null,
   "id": "13b630bf",
   "metadata": {},
   "outputs": [],
   "source": [
    "#11.\n",
    "def check_empty_string(string):\n",
    "    if string:\n",
    "        return \"The string is not empty.\"\n",
    "    else:\n",
    "        return \"The string is empty.\"\n",
    "\n",
    "# Example usage\n",
    "user_string = input(\"Enter a string: \")\n",
    "result = check_empty_string(user_string)\n",
    "print(result)\n"
   ]
  },
  {
   "cell_type": "code",
   "execution_count": null,
   "id": "155ecedf",
   "metadata": {},
   "outputs": [],
   "source": [
    "#12.\n",
    "def triangle_type(side1, side2, side3):\n",
    "    if side1 == side2 == side3:\n",
    "        return \"Equilateral triangle\"\n",
    "    elif side1 == side2 or side1 == side3 or side2 == side3:\n",
    "        return \"Isosceles triangle\"\n",
    "    else:\n",
    "        return \"Scalene triangle\"\n",
    "\n",
    "# Example usage\n",
    "a = float(input(\"Enter the length of side a: \"))\n",
    "b = float(input(\"Enter the length of side b: \"))\n",
    "c = float(input(\"Enter the length of side c: \"))\n",
    "\n",
    "triangle = triangle_type(a, b, c)\n",
    "print(f\"The triangle is a {triangle}\")\n"
   ]
  },
  {
   "cell_type": "code",
   "execution_count": null,
   "id": "16a75a70",
   "metadata": {},
   "outputs": [],
   "source": [
    "#13.\n",
    "def determine_day_of_week(day_number):\n",
    "    if day_number == 1:\n",
    "        return \"Monday\"\n",
    "    elif day_number == 2:\n",
    "        return \"Tuesday\"\n",
    "    elif day_number == 3:\n",
    "        return \"Wednesday\"\n",
    "    elif day_number == 4:\n",
    "        return \"Thursday\"\n",
    "    elif day_number == 5:\n",
    "        return \"Friday\"\n",
    "    elif day_number == 6:\n",
    "        return \"Saturday\"\n",
    "    elif day_number == 7:\n",
    "        return \"Sunday\"\n",
    "    else:\n",
    "        return \"Invalid day number. Please enter a number between 1 and 7.\"\n",
    "\n",
    "# Taking user input for a day number\n",
    "user_day_number = int(input(\"Enter a number (1-7) to determine the day of the week: \"))\n",
    "\n",
    "# Determining the day of the week\n",
    "result = determine_day_of_week(user_day_number)\n",
    "print(f\"The day of the week is: {result}\")\n"
   ]
  },
  {
   "cell_type": "code",
   "execution_count": null,
   "id": "7f750bc4",
   "metadata": {},
   "outputs": [],
   "source": [
    "#14. \n",
    "def is_leap_year(year):\n",
    "    if (year % 4 == 0 and year % 100 != 0) or (year % 400 == 0):\n",
    "        return True\n",
    "    else:\n",
    "        return False\n",
    "\n",
    "# Taking user input for a year\n",
    "user_year = int(input(\"Enter a year to check if it's a leap year: \"))\n",
    "\n",
    "# Checking if it's a leap year\n",
    "if is_leap_year(user_year):\n",
    "    print(f\"{user_year} is a leap year.\")\n",
    "else:\n",
    "    print(f\"{user_year} is not a leap year.\")\n"
   ]
  },
  {
   "cell_type": "code",
   "execution_count": null,
   "id": "e5f62939",
   "metadata": {},
   "outputs": [],
   "source": [
    "#15. \n",
    "# Explain the purpose of the \"assert\" statement in Python to add debugging checks within if-else blocks:\n",
    "# The assert statement is used in Python to perform debugging checks within the code. \n",
    "# It evaluates an expression, and if the expression is False, it raises an AssertionError exception.\n",
    "\n",
    "# Here's an example illustrating the use of assert within an if-else block:\n",
    "def divide(a, b):\n",
    "    assert b != 0, \"Division by zero is not allowed!\"  # Asserting that 'b' should not be zero\n",
    "    return a / b\n",
    "\n",
    "num1 = 10\n",
    "num2 = 0\n",
    "\n",
    "# Using if-else to perform division if 'num2' is not zero\n",
    "if num2 != 0:\n",
    "    result = divide(num1, num2)\n",
    "    print(f\"The result of division is: {result}\")\n",
    "else:\n",
    "    print(\"Cannot divide by zero.\")\n"
   ]
  },
  {
   "cell_type": "code",
   "execution_count": null,
   "id": "34ece300",
   "metadata": {},
   "outputs": [],
   "source": [
    "#16.\n",
    "def check_senior_discount(age):\n",
    "    if age >= 60:\n",
    "        return \"You are eligible for a senior citizen discount!\"\n",
    "    else:\n",
    "        return \"You are not eligible for a senior citizen discount.\"\n",
    "\n",
    "# Taking user input for age\n",
    "user_age = int(input(\"Enter your age: \"))\n",
    "\n",
    "# Checking eligibility for a senior citizen discount\n",
    "result = check_senior_discount(user_age)\n",
    "print(result)\n"
   ]
  },
  {
   "cell_type": "code",
   "execution_count": null,
   "id": "c859cce4",
   "metadata": {},
   "outputs": [],
   "source": [
    "#17.\n",
    "def categorize_character(char):\n",
    "    if char.isalpha():\n",
    "        if char.isupper():\n",
    "            return f\"The character '{char}' is uppercase.\"\n",
    "        else:\n",
    "            return f\"The character '{char}' is lowercase.\"\n",
    "    else:\n",
    "        return f\"The character '{char}' is neither uppercase nor lowercase.\"\n",
    "\n",
    "# Taking user input for a character\n",
    "user_char = input(\"Enter a character: \")\n",
    "\n",
    "# Categorizing the character\n",
    "result = categorize_character(user_char)\n",
    "print(result)\n"
   ]
  },
  {
   "cell_type": "code",
   "execution_count": null,
   "id": "017813b2",
   "metadata": {},
   "outputs": [],
   "source": [
    "#18.\n",
    "def quadratic_roots(a, b, c):\n",
    "    # Calculate the discriminant\n",
    "    discriminant = b**2 - 4*a*c\n",
    "\n",
    "    if discriminant > 0:\n",
    "        root1 = (-b + (discriminant ** 0.5)) / (2*a)\n",
    "        root2 = (-b - (discriminant ** 0.5)) / (2*a)\n",
    "        return f\"The roots are real and different: {root1} and {root2}\"\n",
    "    elif discriminant == 0:\n",
    "        root = -b / (2*a)\n",
    "        return f\"The roots are real and equal: {root}\"\n",
    "    else:\n",
    "        real_part = -b / (2*a)\n",
    "        imaginary_part = ((-discriminant) ** 0.5) / (2*a)\n",
    "        return f\"The roots are complex: {real_part} + {imaginary_part}i and {real_part} - {imaginary_part}i\"\n",
    "\n",
    "# Taking user input for coefficients of the quadratic equation\n",
    "coeff_a = float(input(\"Enter coefficient a: \"))\n",
    "coeff_b = float(input(\"Enter coefficient b: \"))\n",
    "coeff_c = float(input(\"Enter coefficient c: \"))\n",
    "\n",
    "# Calculating and displaying the roots of the quadratic equation\n",
    "roots = quadratic_roots(coeff_a, coeff_b, coeff_c)\n",
    "print(roots)\n"
   ]
  },
  {
   "cell_type": "code",
   "execution_count": null,
   "id": "efafe3f4",
   "metadata": {},
   "outputs": [],
   "source": [
    "#19.\n",
    "def is_century_year(year):\n",
    "    if year % 100 == 0:\n",
    "        return f\"{year} is a century year.\"\n",
    "    else:\n",
    "        return f\"{year} is not a century year.\"\n",
    "\n",
    "# Taking user input for a year\n",
    "user_year = int(input(\"Enter a year to check if it's a century year: \"))\n",
    "\n",
    "# Checking if it's a century year\n",
    "result = is_century_year(user_year)\n",
    "print(result)\n"
   ]
  },
  {
   "cell_type": "code",
   "execution_count": null,
   "id": "a1e4b4f2",
   "metadata": {},
   "outputs": [],
   "source": [
    "#20.\n",
    "def is_perfect_square(number):\n",
    "    if number < 0:\n",
    "        return f\"{number} is not a perfect square as it's a negative number.\"\n",
    "    else:\n",
    "        square_root = number ** 0.5\n",
    "        if square_root.is_integer():\n",
    "            return f\"{number} is a perfect square.\"\n",
    "        else:\n",
    "            return f\"{number} is not a perfect square.\"\n",
    "\n",
    "# Taking user input for a number\n",
    "user_number = int(input(\"Enter a number to check if it's a perfect square: \"))\n",
    "\n",
    "# Checking if it's a perfect square\n",
    "result = is_perfect_square(user_number)\n",
    "print(result)\n"
   ]
  },
  {
   "cell_type": "code",
   "execution_count": null,
   "id": "8146fb44",
   "metadata": {},
   "outputs": [],
   "source": [
    "#21.\n",
    "# Explain the purpose of the \"continue\" and \"break\" statements within if-else loops.\n",
    "# \"continue\" statement: When encountered within a loop (such as \"for\" or \"while\"), the \"continue\" statement skips \n",
    "# the current iteration and proceeds to the next iteration of the loop. \n",
    "# It is particularly useful when certain conditions are met, and you want to bypass the remaining code within the loop for\n",
    "# that specific iteration.\n",
    "for i in range(5):\n",
    "    if i == 3 :      ### it skips that iteration at i == 3\n",
    "        continue\n",
    "    print(i, end= \" \")\n",
    "# \"break\" statement: When encountered within a loop, the \"break\" statement terminates the loop entirely, regardless of any\n",
    "# remaining iterations that might exist. It's commonly used when a certain condition is met, and there's no need to continue the\n",
    "# loop.\n",
    "print(\"\\n\")\n",
    "i = 1\n",
    "while i <= 5:\n",
    "    print(i, end= \" \")\n",
    "    if i == 3:\n",
    "        break  # Terminates the loop when i is equal to 3\n",
    "    i += 1\n"
   ]
  },
  {
   "cell_type": "code",
   "execution_count": null,
   "id": "1419d0bb",
   "metadata": {},
   "outputs": [],
   "source": [
    "#22. \n",
    "def calculate_bmi(weight, height):\n",
    "    # Formula to calculate BMI: weight (kg) / (height (m))^2\n",
    "    bmi = weight / (height ** 2)\n",
    "\n",
    "    if bmi < 18.5:\n",
    "        return f\"Your BMI is {bmi:.2f}. You are underweight.\"\n",
    "    elif 18.5 <= bmi < 25:\n",
    "        return f\"Your BMI is {bmi:.2f}. You have a normal weight.\"\n",
    "    elif 25 <= bmi < 30:\n",
    "        return f\"Your BMI is {bmi:.2f}. You are overweight.\"\n",
    "    else:\n",
    "        return f\"Your BMI is {bmi:.2f}. You are obese.\"\n",
    "\n",
    "# Taking user input for weight and height\n",
    "weight = float(input(\"Enter your weight in kilograms: \"))\n",
    "height = float(input(\"Enter your height in meters: \"))\n",
    "\n",
    "# Calculating and displaying the BMI category\n",
    "bmi_category = calculate_bmi(weight, height)\n",
    "print(bmi_category)\n"
   ]
  },
  {
   "cell_type": "code",
   "execution_count": null,
   "id": "3df65d9d",
   "metadata": {},
   "outputs": [],
   "source": [
    "#23.\n",
    "# Sample list of numbers\n",
    "numbers = [1, 2, 3, 4, 5, 6, 7, 8, 9, 10]\n",
    "\n",
    "# Function to filter even numbers from the list using filter() with if-else\n",
    "filtered_numbers = list(filter(lambda x: True if x % 2 == 0 else False, numbers))\n",
    "\n",
    "print(\"Original list:\", numbers)\n",
    "print(\"Filtered list (even numbers):\", filtered_numbers)\n",
    "# The filter() function takes a function (in this case, a lambda function) and an iterable (list numbers) as arguments.\n",
    "# The lambda function checks if each element in the list is even (returns True if the element is even, False otherwise).\n",
    "# filter() applies this function to each element of the list. If the function returns True, \n",
    "# the element is included in the filtered result; otherwise, it is excluded.\n",
    "# The list() function is used to convert the filtered result (which is an iterator) back into a list.\n",
    "# In this example, filtered_numbers will contain only the even numbers from the original list (numbers)."
   ]
  },
  {
   "cell_type": "code",
   "execution_count": null,
   "id": "5a31f0a5",
   "metadata": {},
   "outputs": [],
   "source": [
    "#24.\n",
    "def is_prime(number):\n",
    "    if number <= 1:\n",
    "        return False  # Numbers less than or equal to 1 are not prime\n",
    "\n",
    "    # Check for factors from 2 to the square root of the number\n",
    "    for i in range(2, int(number**0.5) + 1):\n",
    "        if number % i == 0:\n",
    "            return False  # If a factor is found, the number is not prime\n",
    "\n",
    "    return True  # If no factors other than 1 and itself, the number is prime\n",
    "\n",
    "# Taking user input for a number\n",
    "user_number = int(input(\"Enter a number to check if it's prime: \"))\n",
    "\n",
    "# Checking if the number is prime\n",
    "if is_prime(user_number):\n",
    "    print(f\"{user_number} is a prime number.\")\n",
    "else:\n",
    "    print(f\"{user_number} is not a prime number.\")\n"
   ]
  },
  {
   "cell_type": "markdown",
   "id": "68e16e7e",
   "metadata": {},
   "source": [
    "# MAP FUNCTION QUESTIONS"
   ]
  },
  {
   "cell_type": "markdown",
   "id": "e6df0942",
   "metadata": {},
   "source": [
    "## 1.Explain the purpose of the `map()` function in Python and provide an example of how it can be used to apply a function to## each element of an iterable."
   ]
  },
  {
   "cell_type": "code",
   "execution_count": 1,
   "id": "187e656b",
   "metadata": {},
   "outputs": [
    {
     "data": {
      "text/plain": [
       "[5, 6, 69, 80, 25]"
      ]
     },
     "execution_count": 1,
     "metadata": {},
     "output_type": "execute_result"
    }
   ],
   "source": [
    "# map() function is python built in function that takes two arguments one is function that we tries to implement on each part \n",
    "# and \n",
    "# second one is data on which we are trying to do certain operations, For example: consider we have to increment each element of \n",
    "# list by 2 then \n",
    "list1 = [3, 4, 67, 78, 23]\n",
    "list(map(lambda a : a+2, list1))\n"
   ]
  },
  {
   "cell_type": "markdown",
   "id": "4bab32b9",
   "metadata": {},
   "source": [
    "## 2.Write a Python program that uses the `map()` function to square each element of a list of numbers.\n"
   ]
  },
  {
   "cell_type": "code",
   "execution_count": 2,
   "id": "a9e03470",
   "metadata": {},
   "outputs": [
    {
     "data": {
      "text/plain": [
       "[1, 4, 9, 16, 25, 36, 49, 64, 81, 0]"
      ]
     },
     "execution_count": 2,
     "metadata": {},
     "output_type": "execute_result"
    }
   ],
   "source": [
    "list1 = [1,2,3,4,5,6,7,8,9,0]\n",
    "list(map(lambda a : a*a, list1))"
   ]
  },
  {
   "cell_type": "markdown",
   "id": "03a8cdc4",
   "metadata": {},
   "source": [
    "## 3. How does the `map()` function differ from a list comprehension in Python, and when would you choose one over the other?\n"
   ]
  },
  {
   "cell_type": "code",
   "execution_count": 3,
   "id": "71833356",
   "metadata": {},
   "outputs": [
    {
     "name": "stdout",
     "output_type": "stream",
     "text": [
      "New list using map() :-  [1, 4, 9, 16, 25]\n",
      "New list using list comprehension:- [1, 4, 9, 16, 25]\n"
     ]
    }
   ],
   "source": [
    "# Both map() and list comprehensions are used to generate new lists by applying certain operations but they differ in their\n",
    "# syntax and functionality. The map() function applies a given function to all items in an input iterable and returns an \n",
    "# iterator that yields the results. It takes two arguments: the function to apply and the iterable to operate on.\n",
    "# map() returns a map object, which can be converted to a list using list() or iterated over directly.\n",
    "numbers = [1,2,3,4,5]\n",
    "print(\"New list using map() :- \", list(map(lambda a : a**2, numbers)))\n",
    "# LIST COMPREHENSIONS :- \n",
    "# List comprehensions provide a concise way to create lists. They allow you to generate a new list by applying an expression \n",
    "# to each item in an existing iterable and filtering elements as needed. They have a more concise and readable syntax compared \n",
    "# to using map() with lambda functions.\n",
    "numbers = [1,2,3,4,5]\n",
    "print(\"New list using list comprehension:-\", [a**2 for a in numbers])\n",
    "\n",
    "# WHEN TO CHOOSE EACH:-\n",
    "# 1.Use map() when you need to apply a function to every element in an iterable, especially if the function is defined elsewhere \n",
    "# and reusable.\n",
    "# 2.List comprehensions are more readable and often preferred for simple operations that involve generating a new list based on \n",
    "# existing ones. They can incorporate conditional logic, making them more flexible in certain cases.\n",
    "# If the transformation you need is simple and doesn't require additional filtering or complex logic, list comprehensions might \n",
    "# be more intuitive and readable."
   ]
  },
  {
   "cell_type": "markdown",
   "id": "e83491ad",
   "metadata": {},
   "source": [
    "## 4. Create a Python program that uses the `map()` function to convert a list of names to uppercase.\n"
   ]
  },
  {
   "cell_type": "code",
   "execution_count": 5,
   "id": "89a87e2b",
   "metadata": {},
   "outputs": [
    {
     "name": "stdout",
     "output_type": "stream",
     "text": [
      "Original list: ['Akshit', 'Rahul Chauhan', 'Narendra modi', 'Mahatma Gandi', 'Amit']\n",
      "List in upper case: ['AKSHIT', 'RAHUL CHAUHAN', 'NARENDRA MODI', 'MAHATMA GANDI', 'AMIT']\n"
     ]
    }
   ],
   "source": [
    "list_names = [\"Akshit\", \"Rahul Chauhan\", \"Narendra modi\", \"Mahatma Gandi\", \"Amit\"]\n",
    "upper_list = list(map(lambda str : str.upper(), list_names))\n",
    "print(\"Original list:\", list_names)\n",
    "print(\"List in upper case:\", upper_list)"
   ]
  },
  {
   "cell_type": "markdown",
   "id": "063936e4",
   "metadata": {},
   "source": [
    "## 5. Write a Python program that uses the `map()` function to calculate the length of each word in a list of strings.\n"
   ]
  },
  {
   "cell_type": "code",
   "execution_count": 6,
   "id": "7d40c5fd",
   "metadata": {},
   "outputs": [
    {
     "name": "stdout",
     "output_type": "stream",
     "text": [
      "Original list : ['Rahul', 'Narendra', 'akhil']\n",
      "List of corresponding length elements : [5, 8, 5]\n"
     ]
    }
   ],
   "source": [
    "list_str = [\"Rahul\", \"Narendra\", \"akhil\"]\n",
    "length_list = list(map(lambda str : len(str), list_str))\n",
    "print(\"Original list :\", list_str)\n",
    "print(\"List of corresponding length elements :\", length_list)"
   ]
  },
  {
   "cell_type": "markdown",
   "id": "880b9b11",
   "metadata": {},
   "source": [
    "##  6. How can you use the `map()` function to apply a custom function to elements of multiple lists simultaneously in Python?\n"
   ]
  },
  {
   "cell_type": "code",
   "execution_count": 9,
   "id": "e69ef0c6",
   "metadata": {},
   "outputs": [
    {
     "name": "stdout",
     "output_type": "stream",
     "text": [
      "New list containing elements of sum of square of corresponding elements of three list :_\n",
      "[107, 140, 179, 224]\n"
     ]
    }
   ],
   "source": [
    "# We can use the map() function to apply a custom function to elements of multiple lists simultaneously by passing multiple \n",
    "# iterables as arguments to the map() function along with the custom function.\n",
    "# for example :-\n",
    "def sum_of_squares(x,y,z):\n",
    "    return x**2 + y**2 + z**2\n",
    "list1 = [1,2,3,4]\n",
    "list2 = [5,6,7,8]\n",
    "list3 = [9,10,11,12]\n",
    "new_list = list(map(sum_of_squares, list1, list2, list3))\n",
    "print(\"New list containing elements of sum of square of corresponding elements of three list :_\")\n",
    "print(new_list)"
   ]
  },
  {
   "cell_type": "markdown",
   "id": "551d7271",
   "metadata": {},
   "source": [
    "## 7. Create a Python program that uses `map()` to convert a list of temperatures from Celsius to Fahrenheit.\n"
   ]
  },
  {
   "cell_type": "code",
   "execution_count": 11,
   "id": "2a6d7a3e",
   "metadata": {},
   "outputs": [
    {
     "name": "stdout",
     "output_type": "stream",
     "text": [
      "List of temperatures in celsius: [32, 34, 44, 42, 48]\n",
      "List of temperatures in fahrenheit: [89, 93, 111, 107, 118]\n"
     ]
    }
   ],
   "source": [
    "def cel_to_fah(temp):\n",
    "    return int(1.8*temp + 32)\n",
    "celsius_list = [32, 34, 44, 42, 48]\n",
    "fah_list = list(map(cel_to_fah, celsius_list))\n",
    "print(\"List of temperatures in celsius:\", celsius_list)\n",
    "print(\"List of temperatures in fahrenheit:\", fah_list)\n"
   ]
  },
  {
   "cell_type": "markdown",
   "id": "c9a13c95",
   "metadata": {},
   "source": [
    "##  8. Write a Python program that uses the `map()` function to round each element of a list of floating-point numbers to the nearest integer."
   ]
  },
  {
   "cell_type": "code",
   "execution_count": 14,
   "id": "a2c52769",
   "metadata": {},
   "outputs": [
    {
     "name": "stdout",
     "output_type": "stream",
     "text": [
      "Original list: [76.67, 45.04, 34.56, 78.78]\n",
      "Converted list: [76, 45, 34, 78]\n"
     ]
    }
   ],
   "source": [
    "def convert(x):\n",
    "    return int(x)\n",
    "float_list = [76.67, 45.04, 34.56, 78.78]\n",
    "int_list = list(map(convert, float_list))\n",
    "print(\"Original list:\", float_list)\n",
    "print(\"Converted list:\", int_list)"
   ]
  },
  {
   "cell_type": "markdown",
   "id": "78ec30f0",
   "metadata": {},
   "source": [
    "# ----------------------------------------------"
   ]
  },
  {
   "cell_type": "markdown",
   "id": "f04db077",
   "metadata": {},
   "source": [
    "# REDUCE FUNCTIONS"
   ]
  },
  {
   "cell_type": "markdown",
   "id": "5f64916b",
   "metadata": {},
   "source": [
    "# -----------------------------------------"
   ]
  },
  {
   "cell_type": "markdown",
   "id": "62b84292",
   "metadata": {},
   "source": [
    "### 1. What is the `reduce()` function in Python, and what module should you import to use it? Provide an example of its basic usage."
   ]
  },
  {
   "cell_type": "code",
   "execution_count": 1,
   "id": "6f1cc297",
   "metadata": {},
   "outputs": [
    {
     "name": "stdout",
     "output_type": "stream",
     "text": [
      "Sum of all elements of list : 500500\n"
     ]
    }
   ],
   "source": [
    "# reduce() is a function in Python's functools module. It's used to perform a cumulative operation on a sequence of elements,\n",
    "# reducing them to a single value. To use reduce(), you import it from the functools module. Here's an example:\n",
    "from functools import reduce\n",
    "list1 =list(range(1, 1001))\n",
    "sum_elements = reduce(lambda a,b : a+b, list1)\n",
    "print(\"Sum of all elements of list :\", sum_elements)"
   ]
  },
  {
   "cell_type": "markdown",
   "id": "2d098291",
   "metadata": {},
   "source": [
    "### 2. Write a Python program that uses the `reduce()` function to find the product of all elements in a list.\n"
   ]
  },
  {
   "cell_type": "code",
   "execution_count": 2,
   "id": "b479eee0",
   "metadata": {},
   "outputs": [
    {
     "name": "stdout",
     "output_type": "stream",
     "text": [
      "Product of all elements of list : 3628800\n"
     ]
    }
   ],
   "source": [
    "from functools import reduce\n",
    "list1 = [1,2,3,4,5,6,7,8,9,10]\n",
    "pro_elements = reduce(lambda a,b : a*b, list1)\n",
    "print(\"Product of all elements of list :\", pro_elements)"
   ]
  },
  {
   "cell_type": "markdown",
   "id": "3a9cf1f9",
   "metadata": {},
   "source": [
    "### 3. Create a Python program that uses `reduce()` to find the maximum element in a list of numbers.\n"
   ]
  },
  {
   "cell_type": "code",
   "execution_count": 3,
   "id": "1b84aab0",
   "metadata": {},
   "outputs": [
    {
     "name": "stdout",
     "output_type": "stream",
     "text": [
      "Maximum marks : 99\n"
     ]
    }
   ],
   "source": [
    "from functools import reduce\n",
    "marks = [67, 89, 56, 90, 99, 97]\n",
    "max_marks = reduce(lambda a,b : max(a,b), marks)\n",
    "print(\"Maximum marks :\", max_marks)"
   ]
  },
  {
   "cell_type": "markdown",
   "id": "7d2c3644",
   "metadata": {},
   "source": [
    "### 4. How can you use the `reduce()` function to concatenate a list of strings into a single string?\n"
   ]
  },
  {
   "cell_type": "code",
   "execution_count": 4,
   "id": "4d81ae0d",
   "metadata": {},
   "outputs": [
    {
     "name": "stdout",
     "output_type": "stream",
     "text": [
      "Original list: ['I', 'like', 'pizza']\n",
      "Concatenated list : Ilikepizza\n"
     ]
    }
   ],
   "source": [
    "list = [\"I\", \"like\", \"pizza\"]\n",
    "con_list = reduce(lambda a,b : a+b, list)\n",
    "print(\"Original list:\",list)\n",
    "print(\"Concatenated list :\", con_list)"
   ]
  },
  {
   "cell_type": "markdown",
   "id": "8c0771b5",
   "metadata": {},
   "source": [
    "### 5. Write a Python program that calculates the factorial of a number using the `reduce()` function.\n"
   ]
  },
  {
   "cell_type": "code",
   "execution_count": 3,
   "id": "97cf01c6",
   "metadata": {},
   "outputs": [
    {
     "name": "stdout",
     "output_type": "stream",
     "text": [
      "Enter number :-5\n",
      "Factorial of 5 is 120\n"
     ]
    }
   ],
   "source": [
    "from functools import reduce\n",
    "def factoria_l(num):\n",
    "    list1 = list(range(1,num+1))\n",
    "    fact_num = reduce(lambda a,b : a*b, list1)\n",
    "    return fact_num\n",
    "num = int(input(\"Enter number :-\"))\n",
    "print(f\"Factorial of {num} is {factoria_l(num)}\")"
   ]
  },
  {
   "cell_type": "markdown",
   "id": "1ab31925",
   "metadata": {},
   "source": [
    "### 6.Create a Python program that uses `reduce()` to find the GCD (Greatest Common Divisor) of a list of numbers."
   ]
  },
  {
   "cell_type": "code",
   "execution_count": 4,
   "id": "68fe85fd",
   "metadata": {},
   "outputs": [
    {
     "name": "stdout",
     "output_type": "stream",
     "text": [
      "The GCD of the numbers is: 12\n"
     ]
    }
   ],
   "source": [
    "from functools import reduce\n",
    "import math\n",
    "# List of numbers\n",
    "numbers = [36, 24, 12, 60, 48]\n",
    "\n",
    "# Using reduce() to find GCD of the numbers\n",
    "gcd_result = reduce(lambda a,b : math.gcd(a,b), numbers)\n",
    "\n",
    "print(\"The GCD of the numbers is:\", gcd_result)\n"
   ]
  },
  {
   "cell_type": "markdown",
   "id": "998fcd64",
   "metadata": {},
   "source": [
    "### 7. Write a Python program that uses the `reduce()` function to find the sum of the digits of a given number.\n"
   ]
  },
  {
   "cell_type": "code",
   "execution_count": 5,
   "id": "09e6b09a",
   "metadata": {},
   "outputs": [
    {
     "name": "stdout",
     "output_type": "stream",
     "text": [
      "The sum of the digits of 123456 is: 21\n"
     ]
    }
   ],
   "source": [
    "from functools import reduce\n",
    "\n",
    "# Function to add two numbers\n",
    "def add_digits(a, b):\n",
    "    return int(a) + int(b)\n",
    "\n",
    "# Given number\n",
    "number = 123456\n",
    "\n",
    "# Convert number to string and split it into individual digits\n",
    "digits = list(str(number))\n",
    "\n",
    "# Using reduce() to find the sum of the digits\n",
    "sum_of_digits = reduce(add_digits, digits)\n",
    "\n",
    "print(\"The sum of the digits of\", number, \"is:\", sum_of_digits)\n"
   ]
  },
  {
   "cell_type": "markdown",
   "id": "194535db",
   "metadata": {},
   "source": [
    "# ------------------------------------------------"
   ]
  },
  {
   "cell_type": "markdown",
   "id": "984ae0c9",
   "metadata": {},
   "source": [
    "# FILTER FUNCTION "
   ]
  },
  {
   "cell_type": "markdown",
   "id": "a09fbf2c",
   "metadata": {},
   "source": [
    "# --------------------------------------------------------"
   ]
  },
  {
   "cell_type": "markdown",
   "id": "02f09100",
   "metadata": {},
   "source": [
    "### 1. Explain the purpose of the `filter()` function in Python and provide an example of how it can be used to filter elements from an iterable.\n"
   ]
  },
  {
   "cell_type": "code",
   "execution_count": 8,
   "id": "e1043912",
   "metadata": {},
   "outputs": [
    {
     "name": "stdout",
     "output_type": "stream",
     "text": [
      "List of prime numbers : [2, 3, 5, 7, 11, 13, 17, 19, 23, 29, 31, 37, 41, 43, 47, 53, 59, 61, 67, 71, 73, 79, 83, 89, 97]\n"
     ]
    }
   ],
   "source": [
    "# filter function used to filter some data based on some condition.for example :\n",
    "def check_prime(num):\n",
    "    if num<=1:\n",
    "        return False\n",
    "    elif num >= 2:\n",
    "        for i in range(2, int(num**0.5) + 1):\n",
    "            if num%i == 0:\n",
    "                return False\n",
    "        return True\n",
    "    \n",
    "list1 = list(range(1, 101))\n",
    "# suppose i have to extract out all prime numbers in range from 1 to 1000\n",
    "# it takes only two arguments one is function and other is iterator\n",
    "prime_list = list(filter(check_prime, list1))\n",
    "print(\"List of prime numbers :\",prime_list)"
   ]
  },
  {
   "cell_type": "markdown",
   "id": "6ab38fb9",
   "metadata": {},
   "source": [
    "### 2. Write a Python program that uses the `filter()` function to select even numbers from a list of integers.\n"
   ]
  },
  {
   "cell_type": "code",
   "execution_count": 1,
   "id": "cf26b7e5",
   "metadata": {},
   "outputs": [
    {
     "ename": "TypeError",
     "evalue": "'list' object is not callable",
     "output_type": "error",
     "traceback": [
      "\u001b[1;31m---------------------------------------------------------------------------\u001b[0m",
      "\u001b[1;31mTypeError\u001b[0m                                 Traceback (most recent call last)",
      "Cell \u001b[1;32mIn[1], line 2\u001b[0m\n\u001b[0;32m      1\u001b[0m \u001b[38;5;28mlist\u001b[39m \u001b[38;5;241m=\u001b[39m [\u001b[38;5;241m34\u001b[39m, \u001b[38;5;241m45\u001b[39m, \u001b[38;5;241m56\u001b[39m, \u001b[38;5;241m78\u001b[39m, \u001b[38;5;241m31\u001b[39m, \u001b[38;5;241m89\u001b[39m, \u001b[38;5;241m91\u001b[39m]\n\u001b[1;32m----> 2\u001b[0m filtered_list \u001b[38;5;241m=\u001b[39m \u001b[38;5;28mlist\u001b[39m(\u001b[38;5;28mfilter\u001b[39m(\u001b[38;5;28;01mlambda\u001b[39;00m a : a\u001b[38;5;241m%\u001b[39m\u001b[38;5;241m2\u001b[39m \u001b[38;5;241m==\u001b[39m \u001b[38;5;241m0\u001b[39m, \u001b[38;5;28mlist\u001b[39m))\n\u001b[0;32m      3\u001b[0m \u001b[38;5;28mprint\u001b[39m(\u001b[38;5;124m\"\u001b[39m\u001b[38;5;124mOriginal list :\u001b[39m\u001b[38;5;124m\"\u001b[39m, \u001b[38;5;28mlist\u001b[39m)\n\u001b[0;32m      4\u001b[0m \u001b[38;5;28mprint\u001b[39m(\u001b[38;5;124m\"\u001b[39m\u001b[38;5;124mFiltered list of even numbers :\u001b[39m\u001b[38;5;124m\"\u001b[39m, filtered_list)\n",
      "\u001b[1;31mTypeError\u001b[0m: 'list' object is not callable"
     ]
    }
   ],
   "source": [
    "list = [34, 45, 56, 78, 31, 89, 91]\n",
    "filtered_list = list(filter(lambda a : a%2 == 0, list))\n",
    "print(\"Original list :\", list)\n",
    "print(\"Filtered list of even numbers :\", filtered_list)"
   ]
  },
  {
   "cell_type": "markdown",
   "id": "5e7c2997",
   "metadata": {},
   "source": [
    "### 3. Create a Python program that uses the `filter()` function to select names that start with a specific letter from a list of strings.\n"
   ]
  },
  {
   "cell_type": "code",
   "execution_count": 1,
   "id": "c9ed5104",
   "metadata": {},
   "outputs": [
    {
     "name": "stdout",
     "output_type": "stream",
     "text": [
      "Original list: ['Narendra modi', 'Virat kohli', 'MS Dhoni', 'Sachin']\n",
      "Filtered list : ['Narendra modi']\n"
     ]
    }
   ],
   "source": [
    "def select_str(str):\n",
    "    if str.startswith(\"N\"):\n",
    "        return str\n",
    "list_names = [\"Narendra modi\", \"Virat kohli\", \"MS Dhoni\", \"Sachin\"]\n",
    "filtered_list = list(filter(select_str, list_names))\n",
    "print(\"Original list:\", list_names)\n",
    "print(\"Filtered list :\", filtered_list)"
   ]
  },
  {
   "cell_type": "markdown",
   "id": "2b0ad2c7",
   "metadata": {},
   "source": [
    "### 4. Write a Python program that uses the `filter()` function to select prime numbers from a list of integers."
   ]
  },
  {
   "cell_type": "code",
   "execution_count": 2,
   "id": "927b4b54",
   "metadata": {},
   "outputs": [
    {
     "name": "stdout",
     "output_type": "stream",
     "text": [
      "List of prime numbers : [2, 3, 5, 7, 11, 13, 17, 19, 23, 29, 31, 37, 41, 43, 47, 53, 59, 61, 67, 71, 73, 79, 83, 89, 97]\n"
     ]
    }
   ],
   "source": [
    "def check_prime(num):\n",
    "    if num<=1:\n",
    "        return False\n",
    "    elif num >= 2:\n",
    "        for i in range(2, int(num**0.5) + 1):\n",
    "            if num%i == 0:\n",
    "                return False\n",
    "        return True\n",
    "    \n",
    "list1 = list(range(1, 101))\n",
    "# suppose i have to extract out all prime numbers in range from 1 to 1000\n",
    "# it takes only two arguments one is function and other is iterator\n",
    "prime_list = list(filter(check_prime, list1))\n",
    "print(\"List of prime numbers :\",prime_list)"
   ]
  },
  {
   "cell_type": "markdown",
   "id": "a13cd24a",
   "metadata": {},
   "source": [
    "### 5. How can you use the `filter()` function to remove None values from a list in Python?\n"
   ]
  },
  {
   "cell_type": "code",
   "execution_count": 3,
   "id": "1b41e49e",
   "metadata": {},
   "outputs": [
    {
     "name": "stdout",
     "output_type": "stream",
     "text": [
      "[1, 5, 9, 12, 15]\n"
     ]
    }
   ],
   "source": [
    "original_list = [1, None, 5, 9, None, 12, None, 15]\n",
    "\n",
    "# Using filter() to remove None values\n",
    "filtered_list = list(filter(lambda x: x is not None, original_list))\n",
    "\n",
    "print(filtered_list)\n"
   ]
  },
  {
   "cell_type": "markdown",
   "id": "dca911ca",
   "metadata": {},
   "source": [
    "### 6. Create a Python program that uses `filter()` to select words longer than a certain length from a list of strings.\n"
   ]
  },
  {
   "cell_type": "code",
   "execution_count": 5,
   "id": "f318138c",
   "metadata": {},
   "outputs": [
    {
     "name": "stdout",
     "output_type": "stream",
     "text": [
      "Original list :  ['Narendra modi', 'Jawarharlal nehru', 'Gandhi ji', 'Ashoka']\n",
      "Filtered list :  ['Narendra modi', 'Jawarharlal nehru']\n"
     ]
    }
   ],
   "source": [
    "def select_word(str):\n",
    "    if len(str) > 10:\n",
    "        return str\n",
    "    \n",
    "list1 = [\"Narendra modi\", \"Jawarharlal nehru\", \"Gandhi ji\", \"Ashoka\"]\n",
    "filtered_list = list(filter(select_word, list1))\n",
    "print(\"Original list : \", list1)\n",
    "print(\"Filtered list : \", filtered_list)"
   ]
  },
  {
   "cell_type": "markdown",
   "id": "052e694e",
   "metadata": {},
   "source": [
    "### 7. Write a Python program that uses the `filter()` function to select elements greater than a specified threshold from a list of values.\n"
   ]
  },
  {
   "cell_type": "code",
   "execution_count": 6,
   "id": "de45ee04",
   "metadata": {},
   "outputs": [
    {
     "name": "stdout",
     "output_type": "stream",
     "text": [
      "Original list :  [67, 89, 90, 55, 78]\n",
      "Filtered list :  [67, 89, 90, 78]\n"
     ]
    }
   ],
   "source": [
    "def select_element(num):\n",
    "    if num > 60:\n",
    "        return num\n",
    "list1 = [67, 89, 90, 55, 78]\n",
    "filtered_list = list(filter(select_element, list1))\n",
    "print(\"Original list : \", list1)\n",
    "print(\"Filtered list : \", filtered_list)"
   ]
  },
  {
   "cell_type": "markdown",
   "id": "c6323259",
   "metadata": {},
   "source": [
    "# ---------------------------------"
   ]
  },
  {
   "cell_type": "markdown",
   "id": "a1d926ac",
   "metadata": {},
   "source": [
    "# RECURSION QUESTIONS "
   ]
  },
  {
   "cell_type": "markdown",
   "id": "263c547b",
   "metadata": {},
   "source": [
    "# -----------------------------------------"
   ]
  },
  {
   "cell_type": "markdown",
   "id": "91d31f2a",
   "metadata": {},
   "source": [
    "### Explain the concept of recursion in Python. How does it differ from iteration?\n"
   ]
  },
  {
   "cell_type": "code",
   "execution_count": 7,
   "id": "0d7e45bc",
   "metadata": {},
   "outputs": [],
   "source": [
    "# Recursion is a programming technique where a function calls itself directly or indirectly to solve a problem. In Python, a \n",
    "# recursive function typically consists of two parts:\n",
    "\n",
    "# Base Case: This is the termination condition that stops the recursion. It defines when the function should stop calling itself\n",
    "# Recursive Case: This is where the function calls itself with a modified version of the problem, bringing it closer to the \n",
    "# base case.\n",
    "# Iteration, on the other hand, involves using loop structures (like for or while loops) to repeatedly execute a set of statemen\n",
    "# -ts until a condition is met. Iterative solutions typically use mutable variables to keep track of the state and progress \n",
    "# through the iterations."
   ]
  },
  {
   "cell_type": "markdown",
   "id": "3cf7cf25",
   "metadata": {},
   "source": [
    "### 2. Write a Python program to calculate the factorial of a number using recursion.\n"
   ]
  },
  {
   "cell_type": "code",
   "execution_count": 8,
   "id": "55ac8a0a",
   "metadata": {},
   "outputs": [
    {
     "name": "stdout",
     "output_type": "stream",
     "text": [
      "120\n"
     ]
    }
   ],
   "source": [
    "def factorial(n):\n",
    "    if n == 0 or n == 1:  # Base case\n",
    "        return 1\n",
    "    else:\n",
    "        return n * factorial(n - 1)  # Recursive case\n",
    "\n",
    "result = factorial(5)\n",
    "print(result)  # Output: 120 (5! = 5 * 4 * 3 * 2 * 1 = 120)\n"
   ]
  },
  {
   "cell_type": "markdown",
   "id": "44264cc4",
   "metadata": {},
   "source": [
    "### 3. Create a recursive Python function to find the nth Fibonacci number.\n"
   ]
  },
  {
   "cell_type": "code",
   "execution_count": 1,
   "id": "f4636e49",
   "metadata": {},
   "outputs": [
    {
     "name": "stdout",
     "output_type": "stream",
     "text": [
      "Enter number :_4\n",
      "4th term of fibonacci series is : 5\n"
     ]
    }
   ],
   "source": [
    "def fibonacci(num):\n",
    "    if num == 0 or num == 1 :\n",
    "        return 1\n",
    "    else:\n",
    "        return fibonacci(num-1) + fibonacci(num-2)\n",
    "num = int(input(\"Enter number :_\"))\n",
    "\n",
    "print(f\"{num}th term of fibonacci series is : {fibonacci(num)}\")"
   ]
  },
  {
   "cell_type": "markdown",
   "id": "88b16c15",
   "metadata": {},
   "source": [
    "### 4. Write a recursive Python function to calculate the sum of all elements in a list.\n"
   ]
  },
  {
   "cell_type": "code",
   "execution_count": 2,
   "id": "bdb018e8",
   "metadata": {},
   "outputs": [
    {
     "name": "stdout",
     "output_type": "stream",
     "text": [
      "Sum of all elements of list [66, 77, 88, 99, 78, 45] is :-\n",
      "453\n"
     ]
    }
   ],
   "source": [
    "def sum_elements(list):\n",
    "    ### defining the base case :\n",
    "    if len(list) == 0:\n",
    "        return 0\n",
    "    if len(list) == 1:\n",
    "        return list[0]\n",
    "    else:\n",
    "        return list[0] + sum_elements(list[1:])   ### recursive call since base case is when size is 1 then obiously sum is that\n",
    "list1 = [66, 77,88,99,78, 45]                    ### element....then take rest of list \n",
    "print(\"Sum of all elements of list\",list1,\"is :-\")\n",
    "print(sum_elements(list1))"
   ]
  },
  {
   "cell_type": "markdown",
   "id": "7290ce0b",
   "metadata": {},
   "source": [
    "### 5. How can you prevent a recursive function from running indefinitely, causing a stack overflow error?\n"
   ]
  },
  {
   "cell_type": "code",
   "execution_count": 9,
   "id": "74c8f2ca",
   "metadata": {},
   "outputs": [],
   "source": [
    "# There are a few strategies to prevent a recursive function from running indefinitely and causing a stack overflow error:\n",
    "\n",
    "# BASE CASE: Ensure that your recursive function has a base case that stops the recursion. This base case acts as a termination \n",
    "#            condition, so the function stops calling itself when the condition is met.\n",
    "\n",
    "# CORRECT RECURSIVE CALLS: Make sure your recursive function moves closer to the base case with each recursive call. If the \n",
    "#                          function doesn’t approach the base case, it will continue indefinitely.\n",
    "# TESTING AND DEBUGGING: Thoroughly test your recursive function with different input values to ensure it behaves as expected \n",
    "#                        and doesn’t enter infinite recursion."
   ]
  },
  {
   "cell_type": "markdown",
   "id": "3f32b04a",
   "metadata": {},
   "source": [
    "### 6. Create a recursive Python function to find the greatest common divisor (GCD) of two numbers using the Euclidean algorithm.\n"
   ]
  },
  {
   "cell_type": "code",
   "execution_count": 10,
   "id": "8916f932",
   "metadata": {},
   "outputs": [
    {
     "name": "stdout",
     "output_type": "stream",
     "text": [
      "The GCD of 48 and 18 is: 6\n"
     ]
    }
   ],
   "source": [
    "# INITIALIZATION:\n",
    "# Take two numbers a and b.\n",
    "# The algorithm begins with a as the larger number and b as the smaller number.\n",
    "\n",
    "# BASE CASE CHECK:\n",
    "# If b is equal to 0, then a is the GCD. The algorithm terminates and returns a.\n",
    "\n",
    "# RECURSIVE STEP:\n",
    "# If b is not zero:\n",
    "# Calculate the remainder of a divided by b using a % b.\n",
    "# Recursively call the gcd() function with arguments b and a % b.\n",
    "# This step replaces a with b and b with the remainder (a % b), effectively reducing the problem to finding the GCD of b and\n",
    "# a % b.\n",
    "\n",
    "#REPETITION :\n",
    "# Repeat the process until b becomes zero. At this point, a holds the GCD of the original a and b.\n",
    "# Return GCD:\n",
    "# Finally, the algorithm returns the value of a when b becomes zero.\n",
    "\n",
    "# For example, let's find the GCD of 48 and 18 using the Euclidean algorithm:\n",
    "\n",
    "# gcd(48, 18)\n",
    "# gcd(18, 48 % 18) => gcd(18, 12)\n",
    "# gcd(12, 18 % 12) => gcd(12, 6)\n",
    "# gcd(6, 12 % 6) => gcd(6, 0)\n",
    "# When b becomes 0, the function returns a, which is 6. Therefore, the GCD of 48 and 18 is 6.\n",
    "\n",
    "def gcd(a, b):\n",
    "    if b == 0:\n",
    "        return a\n",
    "    else:\n",
    "        return gcd(b, a % b)\n",
    "\n",
    "# Example usage:\n",
    "num1 = 48\n",
    "num2 = 18\n",
    "result = gcd(num1, num2)\n",
    "print(f\"The GCD of {num1} and {num2} is: {result}\")\n"
   ]
  },
  {
   "cell_type": "markdown",
   "id": "ba9d6067",
   "metadata": {},
   "source": [
    "### 7. Write a recursive Python function to reverse a string.\n"
   ]
  },
  {
   "cell_type": "code",
   "execution_count": 11,
   "id": "bdca5cca",
   "metadata": {},
   "outputs": [
    {
     "name": "stdout",
     "output_type": "stream",
     "text": [
      "Enter any string:-like\n",
      "Reversed string of like is :- ekil\n"
     ]
    }
   ],
   "source": [
    "def reverse_string(str):\n",
    "    if len(str) <= 1:\n",
    "        return str\n",
    "    else :\n",
    "        return reverse_string(str[1:]) + str[0]\n",
    "\n",
    "str = input(\"Enter any string:-\")\n",
    "print(\"Reversed string of\",str,\"is :-\", reverse_string(str))\n"
   ]
  },
  {
   "cell_type": "markdown",
   "id": "b366f212",
   "metadata": {},
   "source": [
    "### 8. Create a recursive Python function to calculate the power of a number (x^n).\n"
   ]
  },
  {
   "cell_type": "code",
   "execution_count": 12,
   "id": "673c2e28",
   "metadata": {},
   "outputs": [
    {
     "name": "stdout",
     "output_type": "stream",
     "text": [
      "Enter the base of exponent:4\n",
      "Enter the power of base:3\n",
      "4.0 raised to power 3.0 is 64.0\n"
     ]
    }
   ],
   "source": [
    "def power_exp(base, pw):  ### in 5^2 then base is 5 and 2 is pw(power)\n",
    "    if pw == 0:        ### base case\n",
    "        return 1\n",
    "    if pw == 1:\n",
    "        return base\n",
    "    else:\n",
    "        return base*power_exp(base, pw-1)       ### recursive call since we know 5^6 = 5 * 5^5\n",
    "    \n",
    "a = float(input(\"Enter the base of exponent:\"))\n",
    "b = float(input(\"Enter the power of base:\"))\n",
    "print(f\"{a} raised to power {b} is {power_exp(a,b)}\")\n",
    "    "
   ]
  },
  {
   "cell_type": "markdown",
   "id": "f1e1e93e",
   "metadata": {},
   "source": [
    "### 9.Write a recursive Python function to find all permutations of a given string.\n"
   ]
  },
  {
   "cell_type": "code",
   "execution_count": 13,
   "id": "4961bd9f",
   "metadata": {},
   "outputs": [
    {
     "name": "stdout",
     "output_type": "stream",
     "text": [
      "All permutations of 'abc' are: ['abc', 'acb', 'bac', 'bca', 'cab', 'cba']\n"
     ]
    }
   ],
   "source": [
    "def permutations(s):\n",
    "    if len(s) <= 1:\n",
    "        return [s]\n",
    "    else:\n",
    "        perms = []\n",
    "        for i, char in enumerate(s):\n",
    "            substring = s[:i] + s[i+1:]\n",
    "            for perm in permutations(substring):\n",
    "                perms.append(char + perm)\n",
    "        return perms\n",
    "\n",
    "# Example usage:\n",
    "input_string = \"abc\"\n",
    "all_perms = permutations(input_string)\n",
    "print(f\"All permutations of '{input_string}' are: {all_perms}\")\n"
   ]
  },
  {
   "cell_type": "markdown",
   "id": "001c870a",
   "metadata": {},
   "source": [
    "### 10. Write a recursive Python function to check if a string is a palindrome.\n"
   ]
  },
  {
   "cell_type": "code",
   "execution_count": 14,
   "id": "83c6b930",
   "metadata": {},
   "outputs": [
    {
     "name": "stdout",
     "output_type": "stream",
     "text": [
      "Is 'radar' a palindrome? True\n"
     ]
    }
   ],
   "source": [
    "def is_palindrome(s):\n",
    "    if len(s) <= 1:    ### base case defined if size of string is 1 clearly it is palindrome\n",
    "        return True\n",
    "    else:\n",
    "        if s[0] != s[-1]:         \n",
    "            return False\n",
    "        else: \n",
    "            return is_palindrome(s[1:-1])        ### defining the recursive call\n",
    "\n",
    "# Example usage:\n",
    "test_string = \"radar\"\n",
    "result = is_palindrome(test_string)\n",
    "print(f\"Is '{test_string}' a palindrome? {result}\")\n"
   ]
  },
  {
   "cell_type": "markdown",
   "id": "99761acd",
   "metadata": {},
   "source": [
    "### 11.Create a recursive Python function to generate all possible combinations of a list of elements.\n"
   ]
  },
  {
   "cell_type": "code",
   "execution_count": 15,
   "id": "56d5212a",
   "metadata": {},
   "outputs": [
    {
     "name": "stdout",
     "output_type": "stream",
     "text": [
      "All combinations of [1, 2, 3] are: [[], [1], [2], [1, 2], [3], [1, 3], [2, 3], [1, 2, 3]]\n"
     ]
    }
   ],
   "source": [
    "def combinations(elements):\n",
    "    if len(elements) == 0:\n",
    "        return [[]]\n",
    "    else:\n",
    "        head = elements[0]\n",
    "        tail_combinations = combinations(elements[1:])\n",
    "        new_combinations = []\n",
    "        for combo in tail_combinations:\n",
    "            new_combinations.append(combo)\n",
    "            new_combinations.append([head] + combo)\n",
    "        return new_combinations\n",
    "\n",
    "# Example usage:\n",
    "input_list = [1, 2, 3]\n",
    "all_combinations = combinations(input_list)\n",
    "print(f\"All combinations of {input_list} are: {all_combinations}\")\n"
   ]
  },
  {
   "cell_type": "markdown",
   "id": "c1fdefd2",
   "metadata": {},
   "source": [
    "# ========================================="
   ]
  },
  {
   "cell_type": "markdown",
   "id": "3f146b98",
   "metadata": {},
   "source": [
    "# BASICS OF FUNCTIONS :"
   ]
  },
  {
   "cell_type": "markdown",
   "id": "596cbb08",
   "metadata": {},
   "source": [
    "# ============================== "
   ]
  },
  {
   "cell_type": "markdown",
   "id": "121ae1d6",
   "metadata": {},
   "source": [
    "### 1. What is a function in Python, and why is it used?\n"
   ]
  },
  {
   "cell_type": "markdown",
   "id": "030a0984",
   "metadata": {},
   "source": [
    "A function in Python is a block of reusable code that performs a specific task. Functions help to break down complex problems into smaller, manageable parts, making the code easier to understand, maintain, and debug. They also promote code reusability, as you can call a function multiple times throughout a program."
   ]
  },
  {
   "cell_type": "markdown",
   "id": "f761ee93",
   "metadata": {},
   "source": [
    "### 2.How do you define a function in Python? Provide an example.\n"
   ]
  },
  {
   "cell_type": "markdown",
   "id": "e60400d4",
   "metadata": {},
   "source": [
    "To define a function in Python, you use the def keyword followed by the function name, parentheses (which may include parameters), and a colon. The function body is indented and contains the code to be executed."
   ]
  },
  {
   "cell_type": "code",
   "execution_count": 1,
   "id": "75969722",
   "metadata": {},
   "outputs": [
    {
     "data": {
      "text/plain": [
       "7"
      ]
     },
     "execution_count": 1,
     "metadata": {},
     "output_type": "execute_result"
    }
   ],
   "source": [
    "def add(x, y):\n",
    "    return x+y\n",
    "\n",
    "add(3,4)"
   ]
  },
  {
   "cell_type": "markdown",
   "id": "f313667c",
   "metadata": {},
   "source": [
    "### 3. Explain the difference between a function definition and a function call.\n"
   ]
  },
  {
   "cell_type": "markdown",
   "id": "fd1d2d9a",
   "metadata": {},
   "source": [
    "Function Definition: This is where you specify the name of the function and the code that it will execute. It doesn't execute the function; it merely defines it.\n",
    "\n",
    "Function Call: This is where you invoke the function to execute the code defined within it. This is done by using the function name followed by parentheses."
   ]
  },
  {
   "cell_type": "code",
   "execution_count": 2,
   "id": "27457c80",
   "metadata": {},
   "outputs": [
    {
     "name": "stdout",
     "output_type": "stream",
     "text": [
      "Hello, Alice!\n"
     ]
    }
   ],
   "source": [
    "# Function definition\n",
    "def greet(name):\n",
    "    print(f\"Hello, {name}!\")\n",
    "\n",
    "# Function call\n",
    "greet(\"Alice\")\n"
   ]
  },
  {
   "cell_type": "markdown",
   "id": "2b2ec582",
   "metadata": {},
   "source": [
    "### 4. Write a Python program that defines a function to calculate the sum of two numbers and then calls the function."
   ]
  },
  {
   "cell_type": "code",
   "execution_count": 3,
   "id": "b7a70b1a",
   "metadata": {},
   "outputs": [
    {
     "name": "stdout",
     "output_type": "stream",
     "text": [
      "The sum is: 8\n"
     ]
    }
   ],
   "source": [
    "def sum_two_numbers(a, b):\n",
    "    return a + b\n",
    "\n",
    "# Function call\n",
    "result = sum_two_numbers(5, 3)\n",
    "print(\"The sum is:\", result)\n"
   ]
  },
  {
   "cell_type": "markdown",
   "id": "1a1d3b06",
   "metadata": {},
   "source": [
    "### 5. What is a function signature, and what information does it typically include?"
   ]
  },
  {
   "cell_type": "markdown",
   "id": "b6c92269",
   "metadata": {},
   "source": [
    "A function signature defines the interface to the function. It includes the function name, the number and type of parameters it accepts, and the return type (if specified). The function signature provides a summary of how the function can be called."
   ]
  },
  {
   "cell_type": "markdown",
   "id": "346be61d",
   "metadata": {},
   "source": [
    "### 6. Create a Python function that takes two arguments and returns their product.\n"
   ]
  },
  {
   "cell_type": "code",
   "execution_count": 4,
   "id": "1c6cd3e9",
   "metadata": {},
   "outputs": [
    {
     "name": "stdout",
     "output_type": "stream",
     "text": [
      "The product is: 20\n"
     ]
    }
   ],
   "source": [
    "def product_two_numbers(a, b):\n",
    "    return a * b\n",
    "\n",
    "# Function call\n",
    "result = product_two_numbers(4, 5)\n",
    "print(\"The product is:\", result)\n"
   ]
  },
  {
   "cell_type": "markdown",
   "id": "98d7f293",
   "metadata": {},
   "source": [
    "# ----------------------------------------"
   ]
  },
  {
   "cell_type": "markdown",
   "id": "32515f58",
   "metadata": {},
   "source": [
    "# FUNCTIONS PARAMETER AND ARGUMENTS :-"
   ]
  },
  {
   "cell_type": "markdown",
   "id": "f9faa464",
   "metadata": {},
   "source": [
    "# -------------------------------------------------"
   ]
  },
  {
   "cell_type": "markdown",
   "id": "54948fbd",
   "metadata": {},
   "source": [
    "### 1. Explain the concepts of formal parameters and actual arguments in Python functions.\n"
   ]
  },
  {
   "cell_type": "markdown",
   "id": "4071e88a",
   "metadata": {},
   "source": [
    "Formal Parameters and Actual Arguments\n",
    "Formal Parameters: These are the variables defined in the function signature. They act as placeholders for the values that will be passed to the function when it is called.\n",
    "Actual Arguments: These are the actual values or variables that you pass to the function when you call it."
   ]
  },
  {
   "cell_type": "markdown",
   "id": "4ef1fc8c",
   "metadata": {},
   "source": [
    "### 2. Write a Python program that defines a function with default argument values.\n"
   ]
  },
  {
   "cell_type": "code",
   "execution_count": 5,
   "id": "2ce72482",
   "metadata": {},
   "outputs": [
    {
     "name": "stdout",
     "output_type": "stream",
     "text": [
      "Hello, Guest!\n",
      "Hello, Alice!\n"
     ]
    }
   ],
   "source": [
    "def greet(name=\"Guest\"):\n",
    "    print(f\"Hello, {name}!\")\n",
    "\n",
    "# Calling the function without arguments\n",
    "greet()  # Output: Hello, Guest!\n",
    "\n",
    "# Calling the function with an argument\n",
    "greet(\"Alice\")  # Output: Hello, Alice!\n"
   ]
  },
  {
   "cell_type": "markdown",
   "id": "c8e6b8c7",
   "metadata": {},
   "source": [
    "### 3. How do you use keyword arguments in Python function calls? Provide an example.\n"
   ]
  },
  {
   "cell_type": "markdown",
   "id": "8eb21ba2",
   "metadata": {},
   "source": [
    "Keyword arguments allow you to pass arguments to a function by explicitly naming each parameter and providing a value. This enhances readability and allows parameters to be passed in any order."
   ]
  },
  {
   "cell_type": "code",
   "execution_count": 6,
   "id": "eb4a4574",
   "metadata": {},
   "outputs": [
    {
     "name": "stdout",
     "output_type": "stream",
     "text": [
      "Good morning, Alice!\n",
      "Hello, Bob!\n"
     ]
    }
   ],
   "source": [
    "def greet(name, message):\n",
    "    print(f\"{message}, {name}!\")\n",
    "\n",
    "# Using keyword arguments\n",
    "greet(name=\"Alice\", message=\"Good morning\")  # Output: Good morning, Alice!\n",
    "greet(message=\"Hello\", name=\"Bob\")  # Output: Hello, Bob!\n"
   ]
  },
  {
   "cell_type": "markdown",
   "id": "e2b2c805",
   "metadata": {},
   "source": [
    "### 4. Create a Python function that accepts a variable number of arguments and calculates their sum.\n"
   ]
  },
  {
   "cell_type": "code",
   "execution_count": 7,
   "id": "3e289751",
   "metadata": {},
   "outputs": [
    {
     "name": "stdout",
     "output_type": "stream",
     "text": [
      "10\n",
      "15\n"
     ]
    }
   ],
   "source": [
    "def sum_all(*args):\n",
    "    return sum(args)\n",
    "\n",
    "# Calling the function with a variable number of arguments\n",
    "print(sum_all(1, 2, 3, 4))  # Output: 10\n",
    "print(sum_all(5, 10))  # Output: 15\n"
   ]
  },
  {
   "cell_type": "markdown",
   "id": "17738261",
   "metadata": {},
   "source": [
    "### 5. What is the purpose of the `*args` and `**kwargs` syntax in function parameter lists?\n"
   ]
  },
  {
   "cell_type": "markdown",
   "id": "ad0657ba",
   "metadata": {},
   "source": [
    "*args allows a function to accept any number of positional arguments, which are received as a tuple.\n",
    "**kwargs allows a function to accept any number of keyword arguments, which are received as a dictionary."
   ]
  },
  {
   "cell_type": "markdown",
   "id": "7bab105a",
   "metadata": {},
   "source": [
    "# ------------------------------------"
   ]
  },
  {
   "cell_type": "markdown",
   "id": "f665f601",
   "metadata": {},
   "source": [
    "# RETURN VALUES AND SCOPPING :-"
   ]
  },
  {
   "cell_type": "markdown",
   "id": "b95f1289",
   "metadata": {},
   "source": [
    "# -----------------------------------------------"
   ]
  },
  {
   "cell_type": "markdown",
   "id": "1c1ebbf0",
   "metadata": {},
   "source": [
    "### 1. Describe the role of the `return` statement in Python functions and provide examples.\n"
   ]
  },
  {
   "cell_type": "markdown",
   "id": "6c876b91",
   "metadata": {},
   "source": [
    "The return statement is used to exit a function and pass back a value to the caller. If no return statement is used, the function returns None by default."
   ]
  },
  {
   "cell_type": "code",
   "execution_count": 8,
   "id": "7f0a9f1c",
   "metadata": {},
   "outputs": [
    {
     "name": "stdout",
     "output_type": "stream",
     "text": [
      "8\n"
     ]
    }
   ],
   "source": [
    "def add(a, b):\n",
    "    return a + b\n",
    "\n",
    "result = add(5, 3)\n",
    "print(result)  # Output: 8\n"
   ]
  },
  {
   "cell_type": "markdown",
   "id": "8a7dfc03",
   "metadata": {},
   "source": [
    "### 2. Explain the concept of variable scope in Python, including local and global variables.\n"
   ]
  },
  {
   "cell_type": "markdown",
   "id": "6f6b5884",
   "metadata": {},
   "source": [
    "Local Variables: These are variables defined within a function and accessible only within that function.\n",
    "Global Variables: These are variables defined outside any function and accessible from any function within the module."
   ]
  },
  {
   "cell_type": "markdown",
   "id": "a016a3a3",
   "metadata": {},
   "source": [
    "### 3. Write a Python program that demonstrates the use of global variables within functions.\n"
   ]
  },
  {
   "cell_type": "code",
   "execution_count": 9,
   "id": "f9e9171d",
   "metadata": {},
   "outputs": [
    {
     "name": "stdout",
     "output_type": "stream",
     "text": [
      "Before: 10\n",
      "After: 20\n"
     ]
    }
   ],
   "source": [
    "x = 10  # Global variable\n",
    "\n",
    "def modify_global():\n",
    "    global x\n",
    "    x = 20  # Modifying the global variable\n",
    "\n",
    "print(\"Before:\", x)  # Output: Before: 10\n",
    "modify_global()\n",
    "print(\"After:\", x)  # Output: After: 20\n"
   ]
  },
  {
   "cell_type": "markdown",
   "id": "2a4331b9",
   "metadata": {},
   "source": [
    "### 4. Create a Python function that calculates the factorial of a number and returns it.\n",
    "\n"
   ]
  },
  {
   "cell_type": "code",
   "execution_count": 10,
   "id": "3d360010",
   "metadata": {},
   "outputs": [
    {
     "name": "stdout",
     "output_type": "stream",
     "text": [
      "120\n"
     ]
    }
   ],
   "source": [
    "def factorial(n):\n",
    "    if n == 0 or n == 1:\n",
    "        return 1\n",
    "    else:\n",
    "        return n * factorial(n - 1)\n",
    "\n",
    "print(factorial(5))  # Output: 120\n"
   ]
  },
  {
   "cell_type": "markdown",
   "id": "c23393e9",
   "metadata": {},
   "source": [
    "### 5. How can you access variables defined outside a function from within the function?"
   ]
  },
  {
   "cell_type": "markdown",
   "id": "65a05616",
   "metadata": {},
   "source": [
    "To access variables defined outside a function, you can use the global keyword if you need to modify them. If you only need to read their values, you can access them directly."
   ]
  },
  {
   "cell_type": "code",
   "execution_count": 11,
   "id": "31505088",
   "metadata": {},
   "outputs": [
    {
     "name": "stdout",
     "output_type": "stream",
     "text": [
      "15\n"
     ]
    }
   ],
   "source": [
    "y = 15  # Global variable\n",
    "\n",
    "def print_global():\n",
    "    print(y)  # Accessing the global variable\n",
    "\n",
    "print_global()  # Output: 15\n"
   ]
  },
  {
   "cell_type": "markdown",
   "id": "8416a8d1",
   "metadata": {},
   "source": [
    "# ----------------------------------------------------"
   ]
  },
  {
   "cell_type": "markdown",
   "id": "01e2041c",
   "metadata": {},
   "source": [
    "# LAMBDA FUNCTIONS AND HIGHER ORDER FUNCTIONS:- "
   ]
  },
  {
   "cell_type": "markdown",
   "id": "110ac444",
   "metadata": {},
   "source": [
    "# -------------------------------------------------------"
   ]
  },
  {
   "cell_type": "markdown",
   "id": "76ea8c5b",
   "metadata": {},
   "source": [
    "### 1. What are lambda functions in Python, and when are they typically used?\n"
   ]
  },
  {
   "cell_type": "markdown",
   "id": "97cd224d",
   "metadata": {},
   "source": [
    "Lambda functions are small anonymous functions defined using the lambda keyword. They are typically used for short, simple operations and are often used as arguments to higher-order functions like map(), filter(), and sorted()."
   ]
  },
  {
   "cell_type": "code",
   "execution_count": 12,
   "id": "331a2e1b",
   "metadata": {},
   "outputs": [
    {
     "name": "stdout",
     "output_type": "stream",
     "text": [
      "25\n"
     ]
    }
   ],
   "source": [
    "# Example of a lambda function\n",
    "square = lambda x: x * x\n",
    "print(square(5))  # Output: 25\n"
   ]
  },
  {
   "cell_type": "markdown",
   "id": "80151410",
   "metadata": {},
   "source": [
    "### 2. Write a Python program that uses lambda functions to sort a list of tuples based on the second element.\n",
    "\n"
   ]
  },
  {
   "cell_type": "code",
   "execution_count": 13,
   "id": "592be22d",
   "metadata": {},
   "outputs": [
    {
     "name": "stdout",
     "output_type": "stream",
     "text": [
      "[(4, 1), (2, 2), (1, 3)]\n"
     ]
    }
   ],
   "source": [
    "# List of tuples\n",
    "data = [(1, 3), (4, 1), (2, 2)]\n",
    "\n",
    "# Sorting based on the second element of each tuple\n",
    "sorted_data = sorted(data, key=lambda x: x[1])\n",
    "print(sorted_data)  # Output: [(4, 1), (2, 2), (1, 3)]\n"
   ]
  },
  {
   "cell_type": "markdown",
   "id": "06bc2eb8",
   "metadata": {},
   "source": [
    "### 3. Explain the concept of higher-order functions in Python, and provide an example.\n",
    "\n"
   ]
  },
  {
   "cell_type": "markdown",
   "id": "00e31c5c",
   "metadata": {},
   "source": [
    "A higher-order function is a function that takes another function as an argument or returns a function as its result."
   ]
  },
  {
   "cell_type": "code",
   "execution_count": 14,
   "id": "af63772f",
   "metadata": {},
   "outputs": [
    {
     "name": "stdout",
     "output_type": "stream",
     "text": [
      "[1, 4, 9, 16]\n"
     ]
    }
   ],
   "source": [
    "def apply_function_to_list(func, numbers):\n",
    "    return [func(n) for n in numbers]\n",
    "\n",
    "# Example usage\n",
    "numbers = [1, 2, 3, 4]\n",
    "squared_numbers = apply_function_to_list(lambda x: x ** 2, numbers)\n",
    "print(squared_numbers)  # Output: [1, 4, 9, 16]\n"
   ]
  },
  {
   "cell_type": "markdown",
   "id": "cd66db0d",
   "metadata": {},
   "source": [
    "### 4. Create a Python function that takes a list of numbers and a function as arguments, applying the function to each element in the list."
   ]
  },
  {
   "cell_type": "code",
   "execution_count": 15,
   "id": "9e90d41d",
   "metadata": {},
   "outputs": [
    {
     "name": "stdout",
     "output_type": "stream",
     "text": [
      "[1, 4, 9, 16]\n"
     ]
    }
   ],
   "source": [
    "def apply_function_to_list(func, numbers):\n",
    "    return [func(n) for n in numbers]\n",
    "\n",
    "# Example usage\n",
    "numbers = [1, 2, 3, 4]\n",
    "squared_numbers = apply_function_to_list(lambda x: x ** 2, numbers)\n",
    "print(squared_numbers)  # Output: [1, 4, 9, 16]\n"
   ]
  },
  {
   "cell_type": "markdown",
   "id": "48241e4e",
   "metadata": {},
   "source": [
    "# ------------------------------------------------------------"
   ]
  },
  {
   "cell_type": "markdown",
   "id": "1d13cb01",
   "metadata": {},
   "source": [
    "# BUILT IN FUNCTIONS :- "
   ]
  },
  {
   "cell_type": "markdown",
   "id": "73bf677a",
   "metadata": {},
   "source": [
    "# ---------------------------------------------------------------"
   ]
  },
  {
   "cell_type": "markdown",
   "id": "245121b3",
   "metadata": {},
   "source": [
    "### 1. Describe the role of built-in functions like `len()`, `max()`, and `min()` in Python.\n"
   ]
  },
  {
   "cell_type": "markdown",
   "id": "1e68209a",
   "metadata": {},
   "source": [
    "Role of Built-in Functions\n",
    "len(): Returns the number of items in an object.\n",
    "max(): Returns the largest item in an iterable or the largest of two or more arguments.\n",
    "min(): Returns the smallest item in an iterable or the smallest of two or more arguments."
   ]
  },
  {
   "cell_type": "markdown",
   "id": "979082c0",
   "metadata": {},
   "source": [
    "### 2. Write a Python program that uses the `map()` function to apply a function to each element of a list.\n"
   ]
  },
  {
   "cell_type": "code",
   "execution_count": 16,
   "id": "f8c0a0ac",
   "metadata": {},
   "outputs": [
    {
     "name": "stdout",
     "output_type": "stream",
     "text": [
      "[1, 4, 9, 16]\n"
     ]
    }
   ],
   "source": [
    "# Function to square a number\n",
    "def square(x):\n",
    "    return x * x\n",
    "\n",
    "# List of numbers\n",
    "numbers = [1, 2, 3, 4]\n",
    "\n",
    "# Using map to apply the function to each element of the list\n",
    "squared_numbers = list(map(square, numbers))\n",
    "print(squared_numbers)  # Output: [1, 4, 9, 16]\n"
   ]
  },
  {
   "cell_type": "markdown",
   "id": "0932075e",
   "metadata": {},
   "source": [
    "### 3. How does the `filter()` function work in Python, and when would you use it?\n"
   ]
  },
  {
   "cell_type": "code",
   "execution_count": 17,
   "id": "11b100b7",
   "metadata": {},
   "outputs": [
    {
     "name": "stdout",
     "output_type": "stream",
     "text": [
      "[2, 4, 6]\n"
     ]
    }
   ],
   "source": [
    "#The filter() function constructs an iterator from elements of an iterable for which a function returns true.\n",
    "# Function to check if a number is even\n",
    "def is_even(x):\n",
    "    return x % 2 == 0\n",
    "\n",
    "# List of numbers\n",
    "numbers = [1, 2, 3, 4, 5, 6]\n",
    "\n",
    "# Using filter to get only even numbers\n",
    "even_numbers = list(filter(is_even, numbers))\n",
    "print(even_numbers)  # Output: [2, 4, 6]\n"
   ]
  },
  {
   "cell_type": "markdown",
   "id": "8f98d05d",
   "metadata": {},
   "source": [
    "### 4. Create a Python program that uses the `reduce()` function to find the product of all elements in a list.\n"
   ]
  },
  {
   "cell_type": "code",
   "execution_count": 18,
   "id": "028fdcbb",
   "metadata": {},
   "outputs": [
    {
     "name": "stdout",
     "output_type": "stream",
     "text": [
      "24\n"
     ]
    }
   ],
   "source": [
    "##The reduce() function from the functools module applies a rolling computation to sequential pairs of values in a list.\n",
    "from functools import reduce\n",
    "\n",
    "# Function to multiply two numbers\n",
    "def multiply(x, y):\n",
    "    return x * y\n",
    "\n",
    "# List of numbers\n",
    "numbers = [1, 2, 3, 4]\n",
    "\n",
    "# Using reduce to find the product of all elements\n",
    "product = reduce(multiply, numbers)\n",
    "print(product)  # Output: 24\n"
   ]
  },
  {
   "cell_type": "markdown",
   "id": "a0ea3832",
   "metadata": {},
   "source": [
    "# --------------------------------------------------------------------"
   ]
  },
  {
   "cell_type": "markdown",
   "id": "c47e7040",
   "metadata": {},
   "source": [
    "# Function Documentation and best practices :- "
   ]
  },
  {
   "cell_type": "markdown",
   "id": "6f356b4d",
   "metadata": {},
   "source": [
    "# ------------------------------------------------------------------------------"
   ]
  },
  {
   "cell_type": "markdown",
   "id": "7db70450",
   "metadata": {},
   "source": [
    "### Explain the purpose of docstrings in Python functions and how to write them.\n"
   ]
  },
  {
   "cell_type": "code",
   "execution_count": 19,
   "id": "9d22d872",
   "metadata": {},
   "outputs": [],
   "source": [
    "##Docstrings are used to document the purpose and usage of a function. They are written as the first statement in a function, enclosed in triple quotes.\n",
    "def add(a, b):\n",
    "    \"\"\"\n",
    "    Adds two numbers and returns the result.\n",
    "    \n",
    "    Parameters:\n",
    "    a (int or float): The first number.\n",
    "    b (int or float): The second number.\n",
    "    \n",
    "    Returns:\n",
    "    int or float: The sum of the two numbers.\n",
    "    \"\"\"\n",
    "    return a + b\n"
   ]
  },
  {
   "cell_type": "markdown",
   "id": "89079fed",
   "metadata": {},
   "source": [
    "### Describe some best practices for naming functions and variables in Python, including naming conventions and guidelines.\n"
   ]
  },
  {
   "cell_type": "markdown",
   "id": "a09d5df3",
   "metadata": {},
   "source": [
    "Use descriptive names that clearly indicate the purpose.\n",
    "Use snake_case for function and variable names.\n",
    "Avoid single-character names except for loop variables.\n",
    "Follow PEP 8 guidelines for Python code style."
   ]
  },
  {
   "cell_type": "markdown",
   "id": "1771d38c",
   "metadata": {},
   "source": [
    "# FINISH !!!!!!!!!!!!"
   ]
  },
  {
   "cell_type": "code",
   "execution_count": 20,
   "id": "8ea2ed23",
   "metadata": {},
   "outputs": [
    {
     "name": "stdout",
     "output_type": "stream",
     "text": [
      "Area of the circle: 78.53975\n"
     ]
    }
   ],
   "source": [
    "def calculate_area_of_circle(radius):\n",
    "    pi = 3.14159\n",
    "    return pi * radius * radius\n",
    "\n",
    "circle_radius = 5\n",
    "area = calculate_area_of_circle(circle_radius)\n",
    "print(\"Area of the circle:\", area)  # Output: Area of the circle: 78.53975\n"
   ]
  }
 ],
 "metadata": {
  "kernelspec": {
   "display_name": "Python 3 (ipykernel)",
   "language": "python",
   "name": "python3"
  },
  "language_info": {
   "codemirror_mode": {
    "name": "ipython",
    "version": 3
   },
   "file_extension": ".py",
   "mimetype": "text/x-python",
   "name": "python",
   "nbconvert_exporter": "python",
   "pygments_lexer": "ipython3",
   "version": "3.11.4"
  }
 },
 "nbformat": 4,
 "nbformat_minor": 5
}
